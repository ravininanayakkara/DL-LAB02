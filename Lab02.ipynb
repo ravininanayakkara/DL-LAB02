{
  "nbformat": 4,
  "nbformat_minor": 0,
  "metadata": {
    "colab": {
      "provenance": [],
      "authorship_tag": "ABX9TyNeWDP4PlRPo1JwsLPbG2Ag",
      "include_colab_link": true
    },
    "kernelspec": {
      "name": "python3",
      "display_name": "Python 3"
    },
    "language_info": {
      "name": "python"
    }
  },
  "cells": [
    {
      "cell_type": "markdown",
      "metadata": {
        "id": "view-in-github",
        "colab_type": "text"
      },
      "source": [
        "<a href=\"https://colab.research.google.com/github/ravininanayakkara/DL-LAB02/blob/main/Lab02.ipynb\" target=\"_parent\"><img src=\"https://colab.research.google.com/assets/colab-badge.svg\" alt=\"Open In Colab\"/></a>"
      ]
    },
    {
      "cell_type": "markdown",
      "source": [
        "Que. 01"
      ],
      "metadata": {
        "id": "cuv--9Gr-ztd"
      }
    },
    {
      "cell_type": "code",
      "source": [
        "import numpy as np"
      ],
      "metadata": {
        "id": "RoLCeFpGdw6X"
      },
      "execution_count": null,
      "outputs": []
    },
    {
      "cell_type": "code",
      "source": [
        "from IPython.display import Image\n",
        "Image(\"image.png\")"
      ],
      "metadata": {
        "colab": {
          "base_uri": "https://localhost:8080/",
          "height": 388
        },
        "id": "mHFwBiGe9a1G",
        "outputId": "bd4f4d91-495b-4bc1-a974-380246ef6ddb"
      },
      "execution_count": null,
      "outputs": [
        {
          "output_type": "execute_result",
          "data": {
            "image/png": "[encoded data removed]",
            "text/plain": [
              "<IPython.core.display.Image object>"
            ]
          },
          "metadata": {},
          "execution_count": 7
        }
      ]
    },
    {
      "cell_type": "code",
      "source": [
        "import numpy as np\n",
        "np.set_printoptions(precision=4)\n"
      ],
      "metadata": {
        "id": "_rNvyx14-C0E"
      },
      "execution_count": null,
      "outputs": []
    },
    {
      "cell_type": "code",
      "source": [
        "def initialize():\n",
        "    X = np.array([[0.05, 0.10]])      # Inputs\n",
        "    W1 = np.array([[0.15,0.20], [0.25,0.30]])      # Weights to calculate outputs for hidden layer 1\n",
        "    b1 = 0.35      # Bias for hidden layer 1\n",
        "    W2 = np.array([[0.40,0.45], [0.50,0.55]])     # Weights to calculate outputs for output layer\n",
        "    b2 = 0.60      # Bias for output layer\n",
        "    Y = np.array([[0.01, 0.99]])      # Desired output\n",
        "    learning_rate = 0.5\n",
        "    no_of_iter = int(100)\n",
        "    return (X, W1, b1, W2, b2, Y, learning_rate, no_of_iter)"
      ],
      "metadata": {
        "id": "-RPW4EeD-Kn-"
      },
      "execution_count": null,
      "outputs": []
    },
    {
      "cell_type": "code",
      "source": [
        "def forward_pass (X, W1, b1, W2, b2, Y):\n",
        "    ### Forward pass: Calculate hidden layer 1 (there is only 1 hidden layer in this example)\n",
        "    Z1 = np.dot(X,W1.T) + b1      # WtX + b\n",
        "    A1 = 1/(1 + np.exp(-Z1))       # Sigmoid(z) = 1 / (1 + e^(-z))\n",
        "    ### Forward pass: Calculate output layer\n",
        "    Z2 = np.dot(A1,W2.T) + b2      # WtX + b\n",
        "    A2 = 1/(1 + np.exp(-Z2))       # Sigmoid(z) = 1 / (1 + e^(-z))\n",
        "    ### Calculate error/cost function\n",
        "    E = np.sum(1/2*np.square(Y - A2))      # squared error function\n",
        "    return (A1, A2, E)"
      ],
      "metadata": {
        "id": "2i-zV_EC-Sp6"
      },
      "execution_count": null,
      "outputs": []
    },
    {
      "cell_type": "code",
      "source": [
        "def back_propagation(X, W1, W2, Y, A1, A2, learning_rate):\n",
        "    ### Back propogation\n",
        "    ### Adjust W2\n",
        "    dEdA2 = A2 - Y\n",
        "    dA2dZ2 = np.multiply (A2,1-A2)\n",
        "    dZ2dW2 = A1\n",
        "    dEdW2 = dEdA2 * dA2dZ2 * dZ2dW2\n",
        "    W2_adj = W2 - learning_rate * dEdW2.T\n",
        "    W2 = W2_adj\n",
        "    ### Adjust W1\n",
        "    dZ2dA1 = W2.T\n",
        "    dA1dZ1 = np.multiply(A1,1-A1)\n",
        "    dZ1dW1 = X\n",
        "    dEdW1 = dEdA2 * dA2dZ2 * dZ2dA1 * dA1dZ1 * dZ1dW1\n",
        "    W1_adj = W1 - learning_rate * dEdW1.T\n",
        "    W1 = W1_adj\n",
        "    return (W1, W2)"
      ],
      "metadata": {
        "id": "ARvY_1_I-aeu"
      },
      "execution_count": null,
      "outputs": []
    },
    {
      "cell_type": "code",
      "source": [
        "def main():\n",
        "    (X, W1, b1, W2, b2, Y, learning_rate, no_of_iter) = initialize()\n",
        "    for iter in range (0,no_of_iter):\n",
        "        (A1, A2, E) = forward_pass(X, W1, b1, W2, b2, Y)\n",
        "        (W1, W2) = back_propagation(X, W1, W2, Y, A1, A2, learning_rate)\n",
        "    print ('W1 = {} \\n\\n W2 = {} \\n\\n Output = {} \\n Desired output = {} \\n Error = {}'.format(W1, W2, A2, Y, E))"
      ],
      "metadata": {
        "id": "sAB3kmZp-g6Z"
      },
      "execution_count": null,
      "outputs": []
    },
    {
      "cell_type": "code",
      "source": [
        "main()"
      ],
      "metadata": {
        "colab": {
          "base_uri": "https://localhost:8080/"
        },
        "id": "-zUnjTmC-mvN",
        "outputId": "ca06dd5b-4040-4c3c-819d-b57039c962cd"
      },
      "execution_count": null,
      "outputs": [
        {
          "output_type": "stream",
          "name": "stdout",
          "text": [
            "W1 = [[0.1826 0.2304]\n",
            " [0.2705 0.3217]] \n",
            "\n",
            " W2 = [[-1.819  -1.769 ]\n",
            " [ 1.1239  1.1739]] \n",
            "\n",
            " Output = [[0.178  0.8771]] \n",
            " Desired output = [[0.01 0.99]] \n",
            " Error = 0.020492276763740064\n"
          ]
        }
      ]
    },
    {
      "cell_type": "markdown",
      "source": [
        "Que. 02"
      ],
      "metadata": {
        "id": "L4E9Uu3X_Bm0"
      }
    },
    {
      "cell_type": "code",
      "source": [
        "import numpy as np\n",
        "import matplotlib.pyplot as plt\n",
        "from testCases import *\n",
        "import sklearn\n",
        "import sklearn.datasets\n",
        "import sklearn.linear_model\n",
        "from planar_utils import plot_decision_boundary, sigmoid, load_planar_dataset, load_extra_datasets"
      ],
      "metadata": {
        "id": "L-aopMfq-tl_"
      },
      "execution_count": null,
      "outputs": []
    },
    {
      "cell_type": "code",
      "source": [
        "%matplotlib inline"
      ],
      "metadata": {
        "id": "4n-PlPqTBDt2"
      },
      "execution_count": null,
      "outputs": []
    },
    {
      "cell_type": "code",
      "source": [
        "np.random.seed(1)"
      ],
      "metadata": {
        "id": "tRAp4QOTBJe_"
      },
      "execution_count": null,
      "outputs": []
    },
    {
      "cell_type": "code",
      "source": [
        "X, Y = load_planar_dataset()"
      ],
      "metadata": {
        "id": "_ajHaJaNBP-B"
      },
      "execution_count": null,
      "outputs": []
    },
    {
      "cell_type": "code",
      "source": [
        "plt.scatter(X[0, :], X[1, :], c=Y[0], s=40, cmap=plt.cm.Spectral);"
      ],
      "metadata": {
        "colab": {
          "base_uri": "https://localhost:8080/",
          "height": 430
        },
        "id": "3wmA2bbrBZ5M",
        "outputId": "22cdb9f7-a285-40a5-93ab-888d5b802e88"
      },
      "execution_count": null,
      "outputs": [
        {
          "output_type": "display_data",
          "data": {
            "text/plain": [
              "<Figure size 640x480 with 1 Axes>"
            ],
            "image/png": "[encoded data removed]"
          },
          "metadata": {}
        }
      ]
    },
    {
      "cell_type": "code",
      "source": [
        "### START CODE HERE ### (≈ 3 lines of code)\n",
        "shape_X = X.shape\n",
        "shape_Y = Y.shape\n",
        "m = Y.shape[1]  # training set size\n",
        "### END CODE HERE ###\n",
        "\n",
        "print ('The shape of X is: ' + str(shape_X))\n",
        "print ('The shape of Y is: ' + str(shape_Y))\n",
        "print ('I have m = %d training examples!' % (m))"
      ],
      "metadata": {
        "colab": {
          "base_uri": "https://localhost:8080/"
        },
        "id": "cs79OMjRBiqi",
        "outputId": "d56dadea-a75d-4b9a-fd0d-a7d0b27b1f12"
      },
      "execution_count": null,
      "outputs": [
        {
          "output_type": "stream",
          "name": "stdout",
          "text": [
            "The shape of X is: (2, 400)\n",
            "The shape of Y is: (1, 400)\n",
            "I have m = 400 training examples!\n"
          ]
        }
      ]
    },
    {
      "cell_type": "code",
      "source": [
        "# GRADED FUNCTION: layer_sizes\n",
        "\n",
        "def layer_sizes(X, Y):\n",
        "    \"\"\"\n",
        "    Arguments:\n",
        "    X -- input dataset of shape (input size, number of examples)\n",
        "    Y -- labels of shape (output size, number of examples)\n",
        "\n",
        "    Returns:\n",
        "    n_x -- the size of the input layer\n",
        "    n_h -- the size of the hidden layer\n",
        "    n_y -- the size of the output layer\n",
        "    \"\"\"\n",
        "    ### START CODE HERE ### (≈ 3 lines of code)\n",
        "    n_x = X.shape[0] # size of input layer\n",
        "    n_h = 4\n",
        "    n_y = Y.shape[0] # size of output layer\n",
        "    ### END CODE HERE ###\n",
        "    return (n_x, n_h, n_y)"
      ],
      "metadata": {
        "id": "Sg8DRKKYBwE3"
      },
      "execution_count": null,
      "outputs": []
    },
    {
      "cell_type": "code",
      "source": [
        "X_assess, Y_assess = layer_sizes_test_case()\n",
        "(n_x, n_h, n_y) = layer_sizes(X_assess, Y_assess)\n",
        "print(\"The size of the input layer is: n_x = \" + str(n_x))\n",
        "print(\"The size of the hidden layer is: n_h = \" + str(n_h))\n",
        "print(\"The size of the output layer is: n_y = \" + str(n_y))"
      ],
      "metadata": {
        "colab": {
          "base_uri": "https://localhost:8080/"
        },
        "id": "dpVuvMqFCH7q",
        "outputId": "ef5372a9-4d09-45af-bbe8-e7d4522f0ed9"
      },
      "execution_count": null,
      "outputs": [
        {
          "output_type": "stream",
          "name": "stdout",
          "text": [
            "The size of the input layer is: n_x = 5\n",
            "The size of the hidden layer is: n_h = 4\n",
            "The size of the output layer is: n_y = 2\n"
          ]
        }
      ]
    },
    {
      "cell_type": "code",
      "source": [
        "# GRADED FUNCTION: initialize_parameters\n",
        "\n",
        "def initialize_parameters(n_x, n_h, n_y):\n",
        "    \"\"\"\n",
        "    Argument:\n",
        "    n_x -- size of the input layer\n",
        "    n_h -- size of the hidden layer\n",
        "    n_y -- size of the output layer\n",
        "\n",
        "    Returns:\n",
        "    params -- python dictionary containing your parameters:\n",
        "                    W1 -- weight matrix of shape (n_h, n_x)\n",
        "                    b1 -- bias vector of shape (n_h, 1)\n",
        "                    W2 -- weight matrix of shape (n_y, n_h)\n",
        "                    b2 -- bias vector of shape (n_y, 1)\n",
        "    \"\"\"\n",
        "\n",
        "    np.random.seed(2) # we set up a seed so that your output matches ours although the initialization is random.\n",
        "\n",
        "    ### START CODE HERE ### (≈ 4 lines of code)\n",
        "    W1 = np.random.randn(n_h,n_x)*0.01\n",
        "    b1 = np.zeros((n_h,1))\n",
        "    W2 = np.random.randn(n_y,n_h)*0.01\n",
        "    b2 = np.zeros((n_y,1))\n",
        "    ### END CODE HERE ###\n",
        "\n",
        "    assert (W1.shape == (n_h, n_x))\n",
        "    assert (b1.shape == (n_h, 1))\n",
        "    assert (W2.shape == (n_y, n_h))\n",
        "    assert (b2.shape == (n_y, 1))\n",
        "\n",
        "    parameters = {\"W1\": W1,\n",
        "                  \"b1\": b1,\n",
        "                  \"W2\": W2,\n",
        "                  \"b2\": b2}\n",
        "\n",
        "    return parameters"
      ],
      "metadata": {
        "id": "-mOWy_vtCT_W"
      },
      "execution_count": null,
      "outputs": []
    },
    {
      "cell_type": "code",
      "source": [
        "n_x, n_h, n_y = initialize_parameters_test_case()\n",
        "\n",
        "parameters = initialize_parameters(n_x, n_h, n_y)\n",
        "print(\"W1 = \" + str(parameters[\"W1\"]))\n",
        "print(\"b1 = \" + str(parameters[\"b1\"]))\n",
        "print(\"W2 = \" + str(parameters[\"W2\"]))\n",
        "print(\"b2 = \" + str(parameters[\"b2\"]))"
      ],
      "metadata": {
        "colab": {
          "base_uri": "https://localhost:8080/"
        },
        "id": "FPR0BXGuCcfW",
        "outputId": "93eef9ed-420b-4395-c42f-ba0307197e6f"
      },
      "execution_count": null,
      "outputs": [
        {
          "output_type": "stream",
          "name": "stdout",
          "text": [
            "W1 = [[-0.0042 -0.0006]\n",
            " [-0.0214  0.0164]\n",
            " [-0.0179 -0.0084]\n",
            " [ 0.005  -0.0125]]\n",
            "b1 = [[0.]\n",
            " [0.]\n",
            " [0.]\n",
            " [0.]]\n",
            "W2 = [[-0.0106 -0.0091  0.0055  0.0229]]\n",
            "b2 = [[0.]]\n"
          ]
        }
      ]
    },
    {
      "cell_type": "code",
      "source": [
        "# GRADED FUNCTION: forward_propagation\n",
        "\n",
        "def forward_propagation(X, parameters):\n",
        "    \"\"\"\n",
        "    Argument:\n",
        "    X -- input data of size (n_x, m)\n",
        "    parameters -- python dictionary containing your parameters (output of initialization function)\n",
        "\n",
        "    Returns:\n",
        "    A2 -- The sigmoid output of the second activation\n",
        "    cache -- a dictionary containing \"Z1\", \"A1\", \"Z2\" and \"A2\"\n",
        "    \"\"\"\n",
        "    # Retrieve each parameter from the dictionary \"parameters\"\n",
        "    ### START CODE HERE ### (≈ 4 lines of code)\n",
        "    W1 = parameters[\"W1\"]\n",
        "    b1 = parameters[\"b1\"]\n",
        "    W2 = parameters[\"W2\"]\n",
        "    b2 = parameters[\"b2\"]\n",
        "    ### END CODE HERE ###\n",
        "\n",
        "    # Implement Forward Propagation to calculate A2 (probabilities)\n",
        "    ### START CODE HERE ### (≈ 4 lines of code)\n",
        "    Z1 = np.dot(W1,X)+b1\n",
        "    A1 = np.tanh(Z1)\n",
        "    Z2 = np.dot(W2,A1)+b2\n",
        "    A2 = sigmoid(Z2)\n",
        "    ### END CODE HERE ###\n",
        "\n",
        "    assert(A2.shape == (1, X.shape[1]))\n",
        "\n",
        "    cache = {\"Z1\": Z1,\n",
        "             \"A1\": A1,\n",
        "             \"Z2\": Z2,\n",
        "             \"A2\": A2}\n",
        "\n",
        "    return A2, cache\n"
      ],
      "metadata": {
        "id": "I__DjuoACkW8"
      },
      "execution_count": null,
      "outputs": []
    },
    {
      "cell_type": "code",
      "source": [
        "X_assess, parameters = forward_propagation_test_case()\n",
        "A2, cache = forward_propagation(X_assess, parameters)\n",
        "\n",
        "# Note: we use the mean here just to make sure that your output matches ours.\n",
        "print(np.mean(cache['Z1']) ,np.mean(cache['A1']),np.mean(cache['Z2']),np.mean(cache['A2']))"
      ],
      "metadata": {
        "colab": {
          "base_uri": "https://localhost:8080/"
        },
        "id": "53paIFudCumG",
        "outputId": "8dd654de-a1e2-40ef-dc3a-26c19cae62ac"
      },
      "execution_count": null,
      "outputs": [
        {
          "output_type": "stream",
          "name": "stdout",
          "text": [
            "-0.0004997557777419913 -0.000496963353231779 0.00043818745095914653 0.500109546852431\n"
          ]
        }
      ]
    },
    {
      "cell_type": "code",
      "source": [
        "# GRADED FUNCTION: compute_cost\n",
        "\n",
        "def compute_cost(A2, Y, parameters):\n",
        "    \"\"\"\n",
        "    Computes the cross-entropy cost given in equation (13)\n",
        "\n",
        "    Arguments:\n",
        "    A2 -- The sigmoid output of the second activation, of shape (1, number of examples)\n",
        "    Y -- \"true\" labels vector of shape (1, number of examples)\n",
        "    parameters -- python dictionary containing your parameters W1, b1, W2 and b2\n",
        "\n",
        "    Returns:\n",
        "    cost -- cross-entropy cost given equation (13)\n",
        "    \"\"\"\n",
        "\n",
        "    m = Y.shape[1] # number of example\n",
        "\n",
        "    # Compute the cross-entropy cost\n",
        "    ### START CODE HERE ### (≈ 2 lines of code)\n",
        "    logprobs =np.multiply(np.log(A2),Y)+np.multiply(np.log(1-A2),1-Y)\n",
        "    cost = - np.sum(logprobs) /m\n",
        "    ### END CODE HERE ###\n",
        "\n",
        "    cost = np.squeeze(cost)     # makes sure cost is the dimension we expect.\n",
        "                                # E.g., turns [[17]] into 17\n",
        "    assert(isinstance(cost, float))\n",
        "\n",
        "    return cost\n"
      ],
      "metadata": {
        "id": "HvjIsLrsC3zt"
      },
      "execution_count": null,
      "outputs": []
    },
    {
      "cell_type": "code",
      "source": [
        "A2, Y_assess, parameters = compute_cost_test_case()\n",
        "\n",
        "print(\"cost = \" + str(compute_cost(A2, Y_assess, parameters)))"
      ],
      "metadata": {
        "colab": {
          "base_uri": "https://localhost:8080/"
        },
        "id": "4Ho2eWdADB0f",
        "outputId": "4c9a2dd2-91b5-49b4-babc-b08da26adf7a"
      },
      "execution_count": null,
      "outputs": [
        {
          "output_type": "stream",
          "name": "stdout",
          "text": [
            "cost = 0.6929198937761266\n"
          ]
        }
      ]
    },
    {
      "cell_type": "code",
      "source": [
        "# GRADED FUNCTION: backward_propagation\n",
        "\n",
        "def backward_propagation(parameters, cache, X, Y):\n",
        "    \"\"\"\n",
        "    Implement the backward propagation using the instructions above.\n",
        "\n",
        "    Arguments:\n",
        "    parameters -- python dictionary containing our parameters\n",
        "    cache -- a dictionary containing \"Z1\", \"A1\", \"Z2\" and \"A2\".\n",
        "    X -- input data of shape (2, number of examples)\n",
        "    Y -- \"true\" labels vector of shape (1, number of examples)\n",
        "\n",
        "    Returns:\n",
        "    grads -- python dictionary containing your gradients with respect to different parameters\n",
        "    \"\"\"\n",
        "    m = X.shape[1]\n",
        "\n",
        "    # First, retrieve W1 and W2 from the dictionary \"parameters\".\n",
        "    ### START CODE HERE ### (≈ 2 lines of code)\n",
        "    W1 = parameters[\"W1\"]\n",
        "    W2 = parameters[\"W2\"]\n",
        "    ### END CODE HERE ###\n",
        "\n",
        "    # Retrieve also A1 and A2 from dictionary \"cache\".\n",
        "    ### START CODE HERE ### (≈ 2 lines of code)\n",
        "    A1 = cache[\"A1\"]\n",
        "    A2 = cache[\"A2\"]\n",
        "    ### END CODE HERE ###\n",
        "\n",
        "    # Backward propagation: calculate dW1, db1, dW2, db2.\n",
        "    ### START CODE HERE ### (≈ 6 lines of code, corresponding to 6 equations on slide above)\n",
        "    dZ2 = A2-Y\n",
        "    dW2 = np.dot(dZ2,A1.T)/m\n",
        "    db2 = np.sum(dZ2,axis=1,keepdims=True)/m\n",
        "    dZ1 = np.dot(W2.T,dZ2)*(1 - np.power(A1, 2))\n",
        "    dW1 = np.dot(dZ1,X.T)/m\n",
        "    db1 = np.sum(dZ1,axis=1,keepdims=True)/m\n",
        "    ### END CODE HERE ###\n",
        "\n",
        "    grads = {\"dW1\": dW1,\n",
        "             \"db1\": db1,\n",
        "             \"dW2\": dW2,\n",
        "             \"db2\": db2}\n",
        "\n",
        "    return grads"
      ],
      "metadata": {
        "id": "BX-_SuOEDHvt"
      },
      "execution_count": null,
      "outputs": []
    },
    {
      "cell_type": "code",
      "source": [
        "parameters, cache, X_assess, Y_assess = backward_propagation_test_case()\n",
        "\n",
        "grads = backward_propagation(parameters, cache, X_assess, Y_assess)\n",
        "print (\"dW1 = \"+ str(grads[\"dW1\"]))\n",
        "print (\"db1 = \"+ str(grads[\"db1\"]))\n",
        "print (\"dW2 = \"+ str(grads[\"dW2\"]))\n",
        "print (\"db2 = \"+ str(grads[\"db2\"]))"
      ],
      "metadata": {
        "colab": {
          "base_uri": "https://localhost:8080/"
        },
        "id": "cUP284MQDbOf",
        "outputId": "c93897ea-4def-4da8-b7ca-761b191519b2"
      },
      "execution_count": null,
      "outputs": [
        {
          "output_type": "stream",
          "name": "stdout",
          "text": [
            "dW1 = [[ 0.0102 -0.0071]\n",
            " [ 0.0087 -0.0061]\n",
            " [-0.0053  0.0037]\n",
            " [-0.0221  0.0154]]\n",
            "db1 = [[-0.0007]\n",
            " [-0.0006]\n",
            " [ 0.0004]\n",
            " [ 0.0015]]\n",
            "dW2 = [[ 0.0036  0.0315  0.0116 -0.0132]]\n",
            "db2 = [[0.0659]]\n"
          ]
        }
      ]
    },
    {
      "cell_type": "code",
      "source": [
        "# GRADED FUNCTION: update_parameters\n",
        "\n",
        "def update_parameters(parameters, grads, learning_rate = 1.2):\n",
        "    \"\"\"\n",
        "    Updates parameters using the gradient descent update rule given above\n",
        "\n",
        "    Arguments:\n",
        "    parameters -- python dictionary containing your parameters\n",
        "    grads -- python dictionary containing your gradients\n",
        "\n",
        "    Returns:\n",
        "    parameters -- python dictionary containing your updated parameters\n",
        "    \"\"\"\n",
        "    # Retrieve each parameter from the dictionary \"parameters\"\n",
        "    ### START CODE HERE ### (≈ 4 lines of code)\n",
        "    W1 = parameters[\"W1\"]\n",
        "    b1 = parameters[\"b1\"]\n",
        "    W2 = parameters[\"W2\"]\n",
        "    b2 = parameters[\"b2\"]\n",
        "    ### END CODE HERE ###\n",
        "\n",
        "    # Retrieve each gradient from the dictionary \"grads\"\n",
        "    ### START CODE HERE ### (≈ 4 lines of code)\n",
        "    dW1 = grads[\"dW1\"]\n",
        "    db1 = grads[\"db1\"]\n",
        "    dW2 = grads[\"dW2\"]\n",
        "    db2 = grads[\"db2\"]\n",
        "    ## END CODE HERE ###\n",
        "\n",
        "    # Update rule for each parameter\n",
        "    ### START CODE HERE ### (≈ 4 lines of code)\n",
        "    W1 = W1-learning_rate*dW1\n",
        "    b1 = b1-learning_rate*db1\n",
        "    W2 = W2-learning_rate*dW2\n",
        "    b2 = b2-learning_rate*db2\n",
        "    ### END CODE HERE ###\n",
        "\n",
        "    parameters = {\"W1\": W1,\n",
        "                  \"b1\": b1,\n",
        "                  \"W2\": W2,\n",
        "                  \"b2\": b2}\n",
        "\n",
        "    return parameters"
      ],
      "metadata": {
        "id": "2MTCS9xiDqca"
      },
      "execution_count": null,
      "outputs": []
    },
    {
      "cell_type": "code",
      "source": [
        "parameters, grads = update_parameters_test_case()\n",
        "parameters = update_parameters(parameters, grads)\n",
        "\n",
        "print(\"W1 = \" + str(parameters[\"W1\"]))\n",
        "print(\"b1 = \" + str(parameters[\"b1\"]))\n",
        "print(\"W2 = \" + str(parameters[\"W2\"]))\n",
        "print(\"b2 = \" + str(parameters[\"b2\"]))"
      ],
      "metadata": {
        "colab": {
          "base_uri": "https://localhost:8080/"
        },
        "id": "hMH4UM4rDsxG",
        "outputId": "c781c6da-67cd-4f2d-f9a0-ed7b12e38e85"
      },
      "execution_count": null,
      "outputs": [
        {
          "output_type": "stream",
          "name": "stdout",
          "text": [
            "W1 = [[-0.0064  0.0194]\n",
            " [-0.0241  0.0398]\n",
            " [-0.0165 -0.021 ]\n",
            " [ 0.0105 -0.0599]]\n",
            "b1 = [[-1.0242e-06]\n",
            " [ 1.2737e-05]\n",
            " [ 8.3300e-07]\n",
            " [-3.2014e-06]]\n",
            "W2 = [[-0.0104 -0.0446  0.0176  0.0475]]\n",
            "b2 = [[0.0001]]\n"
          ]
        }
      ]
    },
    {
      "cell_type": "code",
      "source": [
        "def nn_model(X, Y, n_h, num_iterations = 10000, print_cost=False):\n",
        "    np.random.seed(3)\n",
        "    n_x = layer_sizes(X, Y)[0]\n",
        "    n_y = layer_sizes(X, Y)[2]\n",
        "    parameters = initialize_parameters(n_x,n_h,n_y)\n",
        "    W1 = parameters[\"W1\"]\n",
        "    b1 = parameters[\"b1\"]\n",
        "    W2 = parameters[\"W2\"]\n",
        "    b2 = parameters[\"b2\"]\n",
        "    for i in range(0, num_iterations):\n",
        "        A2, cache = forward_propagation(X,parameters)\n",
        "        cost = compute_cost(A2, Y, parameters)\n",
        "        grads = backward_propagation(parameters, cache, X, Y)\n",
        "        parameters = update_parameters(parameters, grads)\n",
        "\n",
        "        if print_cost and i % 1000 == 0:\n",
        "            print (\"Cost after iteration %i: %f\" %(i, cost))\n",
        "\n",
        "    return parameters"
      ],
      "metadata": {
        "id": "Pac6BZG0DySq"
      },
      "execution_count": null,
      "outputs": []
    },
    {
      "cell_type": "code",
      "source": [
        "# GRADED FUNCTION: predict\n",
        "\n",
        "def predict(parameters, X):\n",
        "    \"\"\"\n",
        "    Using the learned parameters, predicts a class for each example in X\n",
        "\n",
        "    Arguments:\n",
        "    parameters -- python dictionary containing your parameters\n",
        "    X -- input data of size (n_x, m)\n",
        "\n",
        "    Returns\n",
        "    predictions -- vector of predictions of our model (red: 0 / blue: 1)\n",
        "    \"\"\"\n",
        "\n",
        "    # Computes probabilities using forward propagation, and classifies to 0/1 using 0.5 as the threshold.\n",
        "    ### START CODE HERE ### (≈ 2 lines of code)\n",
        "    A2, cache = forward_propagation(X, parameters)\n",
        "    predictions = (A2>0.5)\n",
        "    ### END CODE HERE ###\n",
        "\n",
        "    return predictions\n"
      ],
      "metadata": {
        "id": "hqonSqgAENXE"
      },
      "execution_count": null,
      "outputs": []
    },
    {
      "cell_type": "code",
      "source": [
        "parameters, X_assess = predict_test_case()\n",
        "\n",
        "predictions = predict(parameters, X_assess)\n",
        "print(\"predictions mean = \" + str(np.mean(predictions)))"
      ],
      "metadata": {
        "colab": {
          "base_uri": "https://localhost:8080/"
        },
        "id": "RF7vpzTuEU0e",
        "outputId": "da74de7c-ec17-4f4a-e7cb-a77eacc14151"
      },
      "execution_count": null,
      "outputs": [
        {
          "output_type": "stream",
          "name": "stdout",
          "text": [
            "predictions mean = 0.6666666666666666\n"
          ]
        }
      ]
    },
    {
      "cell_type": "code",
      "source": [
        "# Build a model with a n_h-dimensional hidden layer\n",
        "parameters = nn_model(X, Y, n_h = 4, num_iterations = 10000, print_cost=True)\n"
      ],
      "metadata": {
        "colab": {
          "base_uri": "https://localhost:8080/"
        },
        "id": "9bemcjj2EehO",
        "outputId": "7bbc33d8-d961-45cb-e725-5192a6015ea7"
      },
      "execution_count": null,
      "outputs": [
        {
          "output_type": "stream",
          "name": "stdout",
          "text": [
            "Cost after iteration 0: 0.693048\n",
            "Cost after iteration 1000: 0.288083\n",
            "Cost after iteration 2000: 0.254385\n",
            "Cost after iteration 3000: 0.233864\n",
            "Cost after iteration 4000: 0.226792\n",
            "Cost after iteration 5000: 0.222644\n",
            "Cost after iteration 6000: 0.219731\n",
            "Cost after iteration 7000: 0.217504\n",
            "Cost after iteration 8000: 0.219605\n",
            "Cost after iteration 9000: 0.218598\n"
          ]
        }
      ]
    },
    {
      "cell_type": "code",
      "source": [
        "# Print accuracy\n",
        "predictions = predict(parameters, X)\n",
        "print ('Accuracy: %d' % float((np.dot(Y,predictions.T) + np.dot(1-Y,1-predictions.T))/float(Y.size)*100) + '%')"
      ],
      "metadata": {
        "colab": {
          "base_uri": "https://localhost:8080/"
        },
        "id": "9DceoeW-Enja",
        "outputId": "97e1cc60-f2e3-4047-9b97-2932e6e180c4"
      },
      "execution_count": null,
      "outputs": [
        {
          "output_type": "stream",
          "name": "stdout",
          "text": [
            "Accuracy: 90%\n"
          ]
        }
      ]
    },
    {
      "cell_type": "markdown",
      "source": [
        "1 Ans ) When the number of hidden nodes increases, the neural network has the potential to learn more complex patterns from the data. However, increasing the number of hidden nodes may also lead to overfitting if not properly regularized."
      ],
      "metadata": {
        "id": "fjt_pzJFE9l2"
      }
    },
    {
      "cell_type": "markdown",
      "source": [
        "2 Ans) The pattern of accuracy when the hidden nodes increase can vary. In general, as the number of hidden nodes increases, the neural network's training accuracy may improve, as it can better fit the training data. However, if the model starts overfitting, the validation accuracy might plateau or decrease. It's important to monitor both training and validation accuracies to choose an appropriate number of hidden nodes."
      ],
      "metadata": {
        "id": "fOhtYrCnFEXI"
      }
    },
    {
      "cell_type": "markdown",
      "source": [
        "4.6 - Tuning hidden layer size (optional/ungraded exercise)"
      ],
      "metadata": {
        "id": "m5iQtH_zFRRg"
      }
    },
    {
      "cell_type": "markdown",
      "source": [
        "Que 1 & 2"
      ],
      "metadata": {
        "id": "3UWN9duFGfg1"
      }
    },
    {
      "cell_type": "code",
      "source": [
        "hidden_layer_sizes = [1, 2, 3, 4, 5, 20, 50]\n",
        "for i, n_h in enumerate(hidden_layer_sizes):\n",
        "    parameters = nn_model(X, Y, n_h, num_iterations = 5000)\n",
        "    # plot_decision_boundary(lambda x: predict(parameters, x.T), X, Y)\n",
        "    predictions = predict(parameters, X)\n",
        "    accuracy = float((np.dot(Y,predictions.T) + np.dot(1-Y,1-predictions.T))/float(Y.size)*100)\n",
        "    print (\"Accuracy for {} hidden units: {} %\".format(n_h, accuracy))\n"
      ],
      "metadata": {
        "colab": {
          "base_uri": "https://localhost:8080/"
        },
        "id": "tSSIl0CfFR-r",
        "outputId": "fd360ddc-f4da-416c-cc78-6d22f03c318a"
      },
      "execution_count": null,
      "outputs": [
        {
          "output_type": "stream",
          "name": "stdout",
          "text": [
            "Accuracy for 1 hidden units: 67.5 %\n",
            "Accuracy for 2 hidden units: 67.25 %\n",
            "Accuracy for 3 hidden units: 90.75 %\n",
            "Accuracy for 4 hidden units: 90.5 %\n",
            "Accuracy for 5 hidden units: 91.25 %\n",
            "Accuracy for 20 hidden units: 90.0 %\n",
            "Accuracy for 50 hidden units: 90.25 %\n"
          ]
        }
      ]
    },
    {
      "cell_type": "markdown",
      "source": [
        "Que 3"
      ],
      "metadata": {
        "id": "MrJkGPxpGj2g"
      }
    },
    {
      "cell_type": "code",
      "source": [
        "from tensorflow.keras.datasets import mnist\n",
        "from tensorflow.keras.models import Sequential\n",
        "from tensorflow.keras.layers import Dense,Flatten\n",
        "from tensorflow.keras.utils import to_categorical\n",
        "from matplotlib import pyplot as plt\n",
        "import numpy as np"
      ],
      "metadata": {
        "id": "SI-o6NtiGmhS"
      },
      "execution_count": null,
      "outputs": []
    },
    {
      "cell_type": "code",
      "source": [
        "(train_data,train_target),(test_data,test_target) = mnist.load_data()"
      ],
      "metadata": {
        "colab": {
          "base_uri": "https://localhost:8080/"
        },
        "id": "yzI25py3IU0b",
        "outputId": "90e5a1a6-920e-44e2-bd6c-8047642b39d4"
      },
      "execution_count": null,
      "outputs": [
        {
          "output_type": "stream",
          "name": "stdout",
          "text": [
            "Downloading data from https://storage.googleapis.com/tensorflow/tf-keras-datasets/mnist.npz\n",
            "11490434/11490434 [==============================] - 0s 0us/step\n"
          ]
        }
      ]
    },
    {
      "cell_type": "code",
      "source": [
        "fig, axs = plt.subplots(2, 5, figsize=(16,8))\n",
        "random_numbers = np.random.randint(0, 60000, 10)\n",
        "print('Target labels: ',train_target[random_numbers])\n",
        "for idx, ax in enumerate(axs.ravel()):\n",
        "    ax.imshow(train_data[random_numbers[idx]],cmap='gray')\n",
        "plt.show()"
      ],
      "metadata": {
        "colab": {
          "base_uri": "https://localhost:8080/",
          "height": 542
        },
        "id": "PPx5yDSqIgF2",
        "outputId": "3f5a8c34-5c9d-40b3-c020-b8bfc2b28c62"
      },
      "execution_count": null,
      "outputs": [
        {
          "output_type": "stream",
          "name": "stdout",
          "text": [
            "Target labels:  [1 3 9 3 1 7 2 4 8 0]\n"
          ]
        },
        {
          "output_type": "display_data",
          "data": {
            "text/plain": [
              "<Figure size 1600x800 with 10 Axes>"
            ],
            "image/png": "[encoded data removed]"
          },
          "metadata": {}
        }
      ]
    },
    {
      "cell_type": "code",
      "source": [
        "new_train_data = train_data/255.0\n",
        "new_test_data=test_data/255.0\n",
        "\n",
        "new_train_target = to_categorical(train_target)\n",
        "new_test_target = to_categorical(test_target)"
      ],
      "metadata": {
        "id": "Fj1AhyAwIj5l"
      },
      "execution_count": null,
      "outputs": []
    },
    {
      "cell_type": "code",
      "source": [
        "model=Sequential()\n",
        "\n",
        "model.add(Flatten(input_shape=(28,28)))\n",
        "\n",
        "model.add(Dense(64,activation='relu'))\n",
        "model.add(Dense(64,input_dim=64,activation='relu'))\n",
        "model.add(Dense(32,input_dim=64,activation='relu'))\n",
        "model.add(Dense(10,input_dim=32,activation='softmax'))\n",
        "model.compile(loss='categorical_crossentropy',optimizer='adam',metrics=['accuracy'])\n"
      ],
      "metadata": {
        "id": "jzUq8ovLIwc8"
      },
      "execution_count": null,
      "outputs": []
    },
    {
      "cell_type": "code",
      "source": [
        "model.summary()"
      ],
      "metadata": {
        "colab": {
          "base_uri": "https://localhost:8080/"
        },
        "id": "OKP1fgLzI49T",
        "outputId": "8316a43f-8ebf-4e00-89e8-e88b19ec1a2d"
      },
      "execution_count": null,
      "outputs": [
        {
          "output_type": "stream",
          "name": "stdout",
          "text": [
            "Model: \"sequential\"\n",
            "_________________________________________________________________\n",
            " Layer (type)                Output Shape              Param #   \n",
            "=================================================================\n",
            " flatten (Flatten)           (None, 784)               0         \n",
            "                                                                 \n",
            " dense (Dense)               (None, 64)                50240     \n",
            "                                                                 \n",
            " dense_1 (Dense)             (None, 64)                4160      \n",
            "                                                                 \n",
            " dense_2 (Dense)             (None, 32)                2080      \n",
            "                                                                 \n",
            " dense_3 (Dense)             (None, 10)                330       \n",
            "                                                                 \n",
            "=================================================================\n",
            "Total params: 56,810\n",
            "Trainable params: 56,810\n",
            "Non-trainable params: 0\n",
            "_________________________________________________________________\n"
          ]
        }
      ]
    },
    {
      "cell_type": "code",
      "source": [
        "train_info = model.fit(new_train_data , new_train_target , epochs = 10)"
      ],
      "metadata": {
        "colab": {
          "base_uri": "https://localhost:8080/"
        },
        "id": "zvzORtmwJDYx",
        "outputId": "c503a798-6fcc-424d-8ce2-213576b8580f"
      },
      "execution_count": null,
      "outputs": [
        {
          "output_type": "stream",
          "name": "stdout",
          "text": [
            "Epoch 1/10\n",
            "1875/1875 [==============================] - 6s 3ms/step - loss: 0.2838 - accuracy: 0.9161\n",
            "Epoch 2/10\n",
            "1875/1875 [==============================] - 6s 3ms/step - loss: 0.1221 - accuracy: 0.9628\n",
            "Epoch 3/10\n",
            "1875/1875 [==============================] - 5s 3ms/step - loss: 0.0918 - accuracy: 0.9719\n",
            "Epoch 4/10\n",
            "1875/1875 [==============================] - 6s 3ms/step - loss: 0.0725 - accuracy: 0.9777\n",
            "Epoch 5/10\n",
            "1875/1875 [==============================] - 5s 3ms/step - loss: 0.0610 - accuracy: 0.9812\n",
            "Epoch 6/10\n",
            "1875/1875 [==============================] - 6s 3ms/step - loss: 0.0517 - accuracy: 0.9837\n",
            "Epoch 7/10\n",
            "1875/1875 [==============================] - 5s 3ms/step - loss: 0.0433 - accuracy: 0.9860\n",
            "Epoch 8/10\n",
            "1875/1875 [==============================] - 5s 3ms/step - loss: 0.0368 - accuracy: 0.9881\n",
            "Epoch 9/10\n",
            "1875/1875 [==============================] - 6s 3ms/step - loss: 0.0338 - accuracy: 0.9889\n",
            "Epoch 10/10\n",
            "1875/1875 [==============================] - 5s 3ms/step - loss: 0.0314 - accuracy: 0.9901\n"
          ]
        }
      ]
    },
    {
      "cell_type": "code",
      "source": [
        "plt.plot(train_info.history['loss'])\n",
        "plt.xlabel('epochs')\n",
        "plt.ylabel('loss')\n",
        "plt.title('Model loss')\n",
        "plt.show()"
      ],
      "metadata": {
        "colab": {
          "base_uri": "https://localhost:8080/",
          "height": 472
        },
        "id": "Q9Mz4j0rJcCG",
        "outputId": "4d41ad3f-7de6-4e45-f589-bbcb5ad76e03"
      },
      "execution_count": null,
      "outputs": [
        {
          "output_type": "display_data",
          "data": {
            "text/plain": [
              "<Figure size 640x480 with 1 Axes>"
            ],
            "image/png": "[encoded data removed]"
          },
          "metadata": {}
        }
      ]
    },
    {
      "cell_type": "code",
      "source": [
        "plt.plot(train_info.history['accuracy'])\n",
        "plt.xlabel('epochs')\n",
        "plt.ylabel('accuracy')\n",
        "plt.title('Model accuracy')\n",
        "plt.show()"
      ],
      "metadata": {
        "colab": {
          "base_uri": "https://localhost:8080/",
          "height": 472
        },
        "id": "dzFFbDD_JfOC",
        "outputId": "e53c4898-95e4-445b-dbb6-f6208251f7f7"
      },
      "execution_count": null,
      "outputs": [
        {
          "output_type": "display_data",
          "data": {
            "text/plain": [
              "<Figure size 640x480 with 1 Axes>"
            ],
            "image/png": "[encoded data removed]"
          },
          "metadata": {}
        }
      ]
    },
    {
      "cell_type": "code",
      "source": [
        "loss, acc = model.evaluate(new_test_data , new_test_target)\n",
        "print(f'Loss of the Test dataset is: {loss}\\nAccuracy of the test dataset is: {acc}')"
      ],
      "metadata": {
        "colab": {
          "base_uri": "https://localhost:8080/"
        },
        "id": "gGs6KlGxJn-G",
        "outputId": "9d742825-8941-46cf-9c57-c326f37b2bfe"
      },
      "execution_count": null,
      "outputs": [
        {
          "output_type": "stream",
          "name": "stdout",
          "text": [
            "313/313 [==============================] - 1s 2ms/step - loss: 0.0910 - accuracy: 0.9773\n",
            "Loss of the Test dataset is: 0.09104104340076447\n",
            "Accuracy of the test dataset is: 0.9772999882698059\n"
          ]
        }
      ]
    },
    {
      "cell_type": "code",
      "source": [
        "model.save_weights('MNIST_WEIGHTS_V1.h5')"
      ],
      "metadata": {
        "id": "_QzE-ogeJwI3"
      },
      "execution_count": null,
      "outputs": []
    }
  ]
}